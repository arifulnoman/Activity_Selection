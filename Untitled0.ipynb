{
  "nbformat": 4,
  "nbformat_minor": 0,
  "metadata": {
    "colab": {
      "provenance": [],
      "authorship_tag": "ABX9TyPgzxTpfYhhOa+wwONC7msl",
      "include_colab_link": true
    },
    "kernelspec": {
      "name": "python3",
      "display_name": "Python 3"
    },
    "language_info": {
      "name": "python"
    }
  },
  "cells": [
    {
      "cell_type": "markdown",
      "metadata": {
        "id": "view-in-github",
        "colab_type": "text"
      },
      "source": [
        "<a href=\"https://colab.research.google.com/github/arifulnoman/Activity_Selection/blob/main/Untitled0.ipynb\" target=\"_parent\"><img src=\"https://colab.research.google.com/assets/colab-badge.svg\" alt=\"Open In Colab\"/></a>"
      ]
    },
    {
      "cell_type": "code",
      "execution_count": null,
      "metadata": {
        "colab": {
          "base_uri": "https://localhost:8080/"
        },
        "id": "cwe4CJFH4J9c",
        "outputId": "956d4457-1c9a-4d19-eda3-3d42b0cd8868"
      },
      "outputs": [
        {
          "output_type": "stream",
          "name": "stdout",
          "text": [
            "Depth 0 search completed.\n",
            "Depth 1 search completed.\n",
            "Depth 2 search completed.\n",
            "Depth 3 search completed.\n",
            "3 1 2 \n",
            "4 5 8 \n",
            "6 7 _ \n",
            "\n",
            "3 1 2 \n",
            "4 5 _ \n",
            "6 7 8 \n",
            "\n",
            "3 1 2 \n",
            "4 _ 5 \n",
            "6 7 8 \n",
            "\n",
            "3 1 2 \n",
            "_ 4 5 \n",
            "6 7 8 \n",
            "\n",
            "_ 1 2 \n",
            "3 4 5 \n",
            "6 7 8 \n",
            "\n",
            "Moves needed: 4\n"
          ]
        }
      ],
      "source": [
        "from copy import deepcopy\n",
        "\n",
        "# Define the initial and goal states\n",
        "initial_state = [[3, 1, 2], [4, 5, 8], [6, 7, 0]]\n",
        "goal_state = [[0, 1, 2], [3, 4, 5], [6, 7, 8]]\n",
        "\n",
        "class State:\n",
        "    def __init__(self, tile_loc, par, depth):\n",
        "        self.tile_loc = tile_loc\n",
        "        self.parent = par\n",
        "        self.depth = depth\n",
        "\n",
        "    def getChildren(self):\n",
        "        children = []\n",
        "        r, c = self.getZeroLoc()\n",
        "        new_zero_locs = [(r+1, c), (r, c+1), (r-1, c), (r, c-1)]\n",
        "        for new_loc in new_zero_locs:\n",
        "            if self.isValid(new_loc):\n",
        "                rn, cn = new_loc\n",
        "                new_tiles = deepcopy(self.tile_loc)\n",
        "                new_tiles[r][c] = self.tile_loc[rn][cn]\n",
        "                new_tiles[rn][cn] = self.tile_loc[r][c]\n",
        "                child = State(new_tiles, self, self.depth+1)\n",
        "                children.append(child)\n",
        "        return children\n",
        "\n",
        "    def getZeroLoc(self):\n",
        "        for i in range(0, 3):\n",
        "            for j in range(0, 3):\n",
        "                if self.tile_loc[i][j] == 0:\n",
        "                    return i, j\n",
        "\n",
        "    def isValid(self, new_loc):\n",
        "        ri, ci = new_loc\n",
        "        if ri >= 0 and ri < 3 and ci >= 0 and ci < 3:\n",
        "            return True\n",
        "        return False\n",
        "\n",
        "    def printState(self):\n",
        "        for i in range(0, 3):\n",
        "            for j in range(0, 3):\n",
        "                if self.tile_loc[i][j] != 0:\n",
        "                    print(\"{}\".format(self.tile_loc[i][j]), end=\" \")\n",
        "                else:\n",
        "                    print(\"_\", end=\" \")\n",
        "            print()\n",
        "\n",
        "# Helper function to check if a state matches the goal state\n",
        "def goal_test(tile_loc):\n",
        "    return tile_loc == goal_state\n",
        "\n",
        "# Helper function to perform iterative deepening search\n",
        "def IDS(initial_state, max_depth):\n",
        "    for depth in range(max_depth + 1):\n",
        "        queue = []\n",
        "        visited = {}\n",
        "        initial_node = State(initial_state, None, 0)\n",
        "        queue.append(initial_node)\n",
        "        visited[str(initial_state)] = True\n",
        "        while len(queue) != 0:\n",
        "            curr = queue.pop()\n",
        "            if goal_test(curr.tile_loc):\n",
        "                return curr\n",
        "            if curr.depth < depth:\n",
        "                children = curr.getChildren()\n",
        "                for child in children:\n",
        "                    if str(child.tile_loc) not in visited:\n",
        "                        queue.append(child)\n",
        "                        visited[str(child.tile_loc)] = True\n",
        "        print(\"Depth\", depth, \"search completed.\")\n",
        "\n",
        "    return None\n",
        "\n",
        "# Perform iterative deepening search with a maximum depth of 30\n",
        "goal_node = IDS(initial_state, 100)\n",
        "\n",
        "# Print the path from the initial state to the goal state\n",
        "def printPath(node):\n",
        "    mv = -1\n",
        "    if node.parent is not None:\n",
        "        mv = printPath(node.parent)\n",
        "    node.printState()\n",
        "    print()\n",
        "    return 1 + mv\n",
        "\n",
        "movecount = printPath(goal_node)\n",
        "print(\"Moves needed:\", movecount)\n"
      ]
    }
  ]
}